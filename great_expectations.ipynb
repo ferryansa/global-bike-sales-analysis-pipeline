{
 "cells": [
  {
   "cell_type": "markdown",
   "metadata": {},
   "source": [
    "# Great Expectations"
   ]
  },
  {
   "cell_type": "markdown",
   "metadata": {},
   "source": [
    "## Objectives"
   ]
  },
  {
   "cell_type": "markdown",
   "metadata": {},
   "source": [
    "This notebook aims to utilize Great Expectations for data validation to ensure that the dataset meets specific quality standards before further analysis. By integrating Great Expectations, the objective is to profile the data, conduct checks to confirm data consistency, and generate comprehensive validation reports. This process helps maintain data integrity and prepares the dataset for reliable downstream tasks."
   ]
  },
  {
   "cell_type": "markdown",
   "metadata": {},
   "source": [
    "## Libraries"
   ]
  },
  {
   "cell_type": "code",
   "execution_count": 26,
   "metadata": {},
   "outputs": [],
   "source": [
    "import pandas as pd\n",
    "from great_expectations.data_context import FileDataContext"
   ]
  },
  {
   "cell_type": "markdown",
   "metadata": {},
   "source": [
    "## Data Loading"
   ]
  },
  {
   "cell_type": "code",
   "execution_count": 27,
   "metadata": {},
   "outputs": [],
   "source": [
    "# Show all columns DataFrame output\n",
    "pd.set_option('display.max_columns', None)"
   ]
  },
  {
   "cell_type": "code",
   "execution_count": 28,
   "metadata": {},
   "outputs": [
    {
     "name": "stdout",
     "output_type": "stream",
     "text": [
      "<class 'pandas.core.frame.DataFrame'>\n",
      "RangeIndex: 226072 entries, 0 to 226071\n",
      "Data columns (total 33 columns):\n",
      " #   Column            Non-Null Count   Dtype  \n",
      "---  ------            --------------   -----  \n",
      " 0   Date              226072 non-null  object \n",
      " 1   Day               226072 non-null  int64  \n",
      " 2   Month             226072 non-null  object \n",
      " 3   Year              226072 non-null  int64  \n",
      " 4   Customer_Age      226072 non-null  int64  \n",
      " 5   Age_Group         226072 non-null  object \n",
      " 6   Customer_Gender   226072 non-null  object \n",
      " 7   Country           226072 non-null  object \n",
      " 8   State             226072 non-null  object \n",
      " 9   Product_Category  226072 non-null  object \n",
      " 10  Sub_Category      226072 non-null  object \n",
      " 11  Product           226072 non-null  object \n",
      " 12  Order_Quantity    226072 non-null  int64  \n",
      " 13  Unit_Cost         226072 non-null  int64  \n",
      " 14  Unit_Price        226072 non-null  int64  \n",
      " 15  Profit            226072 non-null  int64  \n",
      " 16  Cost              226072 non-null  int64  \n",
      " 17  Revenue           226072 non-null  int64  \n",
      " 18  Size              226072 non-null  object \n",
      " 19  Color             226072 non-null  object \n",
      " 20  Material          226072 non-null  object \n",
      " 21  Warranty          226072 non-null  object \n",
      " 22  Manufacturer      226072 non-null  object \n",
      " 23  Rating            226072 non-null  int64  \n",
      " 24  Shipping_Weight   226072 non-null  float64\n",
      " 25  Delivery_Time     226072 non-null  int64  \n",
      " 26  Discount          226072 non-null  int64  \n",
      " 27  Eco_Friendly      226072 non-null  bool   \n",
      " 28  Shipping_Cost     226072 non-null  float64\n",
      " 29  Shipping_Company  226072 non-null  object \n",
      " 30  Shipping_Type     226072 non-null  object \n",
      " 31  Insurance         150790 non-null  object \n",
      " 32  Return_Policy     226072 non-null  object \n",
      "dtypes: bool(1), float64(2), int64(12), object(18)\n",
      "memory usage: 55.4+ MB\n"
     ]
    }
   ],
   "source": [
    "# Read RAW CSV file and save into a RAW DataFrame\n",
    "df_raw = pd.read_csv('data\\\\data_raw.csv')\n",
    "\n",
    "# Show RAW DataFrame information\n",
    "df_raw.info()"
   ]
  },
  {
   "cell_type": "code",
   "execution_count": 29,
   "metadata": {},
   "outputs": [
    {
     "data": {
      "text/plain": [
       "array(['Basic', nan, 'Premium'], dtype=object)"
      ]
     },
     "execution_count": 29,
     "metadata": {},
     "output_type": "execute_result"
    }
   ],
   "source": [
    "# Show 'Insurance' unique values in RAW DataFrame\n",
    "df_raw['Insurance'].unique()"
   ]
  },
  {
   "cell_type": "code",
   "execution_count": 30,
   "metadata": {},
   "outputs": [
    {
     "data": {
      "text/plain": [
       "113011"
      ]
     },
     "execution_count": 30,
     "metadata": {},
     "output_type": "execute_result"
    }
   ],
   "source": [
    "# Show duplicate\n",
    "df_raw.duplicated().sum()"
   ]
  },
  {
   "cell_type": "markdown",
   "metadata": {},
   "source": [
    "**INSIGHT**\n",
    "- The dataset contains **226,072 rows** and **33 columns**.\n",
    "- Explanation for each column in the dataset:\n",
    "    - `Date`: Transaction date.\n",
    "    - `Day`: Day of the transaction (1-31).\n",
    "    - `Month`: Month of the transaction.\n",
    "    - `Year`: Year of the transaction (2013-2023).\n",
    "    - `Customer_Age`: Age of the customer at the time of bicycle purchase.\n",
    "    - `Age_Group`: Age group of the customer (e.g., Youth (<25), Adults (35-64)).\n",
    "    - `Customer_Gender`: Gender of the customer; M for male and F for female.\n",
    "    - `Country`: Country where the transaction occurred.\n",
    "    - `State`: State or region (for countries with subdivisions like the US or Australia).\n",
    "    - `Product_Category`: Product category.\n",
    "    - `Sub_Category`: Sub-category of the product.\n",
    "    - `Product`: Name or description of the specific product sold.\n",
    "    - `Order_Quantity`: Number of product units ordered.\n",
    "    - `Unit_Cost`: Production cost per product unit.\n",
    "    - `Unit_Price`: Selling price per product unit.\n",
    "    - `Profit`: Net profit generated from the transaction.\n",
    "    - `Cost`: Total production cost incurred for the product.\n",
    "    - `Revenue`: Total revenue generated from the transaction.\n",
    "    - `Size`: Size of the product.\n",
    "    - `Color`: Color of the product.\n",
    "    - `Material`: Primary material of the product.\n",
    "    - `Warranty`: Warranty provided for the product.\n",
    "    - `Manufacturer`: Manufacturer or brand of the product.\n",
    "    - `Rating`: Product rating by customers.\n",
    "    - `Shipping_Weight`: Shipping weight of the product (in kilograms or other units).\n",
    "    - `Delivery_Time`: Delivery time for the product (in days).\n",
    "    - `Discount`: Discount applied to the transaction (in percentage).\n",
    "    - `Eco_Friendly`: Whether the product is eco-friendly (True/False).\n",
    "    - `Shipping_Cost`: Shipping cost for the transaction.\n",
    "    - `Shipping_Company`: Shipping service provider.\n",
    "    - `Shipping_Type`: Type of shipping.\n",
    "    - `Insurance`: Type of shipping insurance.\n",
    "    - `Return_Policy`: Product return policy.\n",
    "- The dataset contains **113,011 duplicate rows**.\n",
    "- There are missing values in the `Insurance` column.\n",
    "- The dataset does not have a unique identifier column.\n",
    "- The data type of the `Date` column is still `object` instead of `datetime`.\n",
    "- The `Day`, `Month`, and `Year` columns are redundant since their information is already encapsulated in the `Date` column."
   ]
  },
  {
   "cell_type": "code",
   "execution_count": 31,
   "metadata": {},
   "outputs": [
    {
     "data": {
      "text/html": [
       "<div>\n",
       "<style scoped>\n",
       "    .dataframe tbody tr th:only-of-type {\n",
       "        vertical-align: middle;\n",
       "    }\n",
       "\n",
       "    .dataframe tbody tr th {\n",
       "        vertical-align: top;\n",
       "    }\n",
       "\n",
       "    .dataframe thead th {\n",
       "        text-align: right;\n",
       "    }\n",
       "</style>\n",
       "<table border=\"1\" class=\"dataframe\">\n",
       "  <thead>\n",
       "    <tr style=\"text-align: right;\">\n",
       "      <th></th>\n",
       "      <th>id_transaction</th>\n",
       "      <th>date</th>\n",
       "      <th>customer_age</th>\n",
       "      <th>age_group</th>\n",
       "      <th>customer_gender</th>\n",
       "      <th>country</th>\n",
       "      <th>state</th>\n",
       "      <th>product_category</th>\n",
       "      <th>sub_category</th>\n",
       "      <th>product</th>\n",
       "      <th>order_quantity</th>\n",
       "      <th>unit_cost</th>\n",
       "      <th>unit_price</th>\n",
       "      <th>profit</th>\n",
       "      <th>cost</th>\n",
       "      <th>revenue</th>\n",
       "      <th>size</th>\n",
       "      <th>color</th>\n",
       "      <th>material</th>\n",
       "      <th>warranty</th>\n",
       "      <th>manufacturer</th>\n",
       "      <th>rating</th>\n",
       "      <th>shipping_weight</th>\n",
       "      <th>delivery_time</th>\n",
       "      <th>discount</th>\n",
       "      <th>eco_friendly</th>\n",
       "      <th>shipping_cost</th>\n",
       "      <th>shipping_company</th>\n",
       "      <th>shipping_type</th>\n",
       "      <th>insurance</th>\n",
       "      <th>return_policy</th>\n",
       "    </tr>\n",
       "  </thead>\n",
       "  <tbody>\n",
       "    <tr>\n",
       "      <th>0</th>\n",
       "      <td>ID1-20171126_4058</td>\n",
       "      <td>2017-11-26</td>\n",
       "      <td>19</td>\n",
       "      <td>Youth (&lt;25)</td>\n",
       "      <td>M</td>\n",
       "      <td>Canada</td>\n",
       "      <td>British Columbia</td>\n",
       "      <td>Accessories</td>\n",
       "      <td>Bike Racks</td>\n",
       "      <td>Hitch Rack - 4-Bike</td>\n",
       "      <td>8</td>\n",
       "      <td>45</td>\n",
       "      <td>120</td>\n",
       "      <td>590</td>\n",
       "      <td>360</td>\n",
       "      <td>950</td>\n",
       "      <td>Extra Large</td>\n",
       "      <td>White</td>\n",
       "      <td>Plastic</td>\n",
       "      <td>1 Year</td>\n",
       "      <td>Manufacturer A</td>\n",
       "      <td>4</td>\n",
       "      <td>13.25</td>\n",
       "      <td>2</td>\n",
       "      <td>25</td>\n",
       "      <td>True</td>\n",
       "      <td>40.58</td>\n",
       "      <td>GLS</td>\n",
       "      <td>Standard</td>\n",
       "      <td>Basic</td>\n",
       "      <td>30 Days</td>\n",
       "    </tr>\n",
       "    <tr>\n",
       "      <th>1</th>\n",
       "      <td>ID2-20141126_9532</td>\n",
       "      <td>2014-11-26</td>\n",
       "      <td>19</td>\n",
       "      <td>Youth (&lt;25)</td>\n",
       "      <td>M</td>\n",
       "      <td>Canada</td>\n",
       "      <td>British Columbia</td>\n",
       "      <td>Accessories</td>\n",
       "      <td>Bike Racks</td>\n",
       "      <td>Hitch Rack - 4-Bike</td>\n",
       "      <td>8</td>\n",
       "      <td>45</td>\n",
       "      <td>120</td>\n",
       "      <td>590</td>\n",
       "      <td>360</td>\n",
       "      <td>950</td>\n",
       "      <td>Extra Large</td>\n",
       "      <td>White</td>\n",
       "      <td>Steel</td>\n",
       "      <td>2 Years</td>\n",
       "      <td>Manufacturer A</td>\n",
       "      <td>5</td>\n",
       "      <td>4.56</td>\n",
       "      <td>4</td>\n",
       "      <td>1</td>\n",
       "      <td>True</td>\n",
       "      <td>95.32</td>\n",
       "      <td>Posti</td>\n",
       "      <td>Same Day</td>\n",
       "      <td>No Insurance</td>\n",
       "      <td>30 Days</td>\n",
       "    </tr>\n",
       "    <tr>\n",
       "      <th>2</th>\n",
       "      <td>ID3-20190323_7454</td>\n",
       "      <td>2019-03-23</td>\n",
       "      <td>49</td>\n",
       "      <td>Adults (35-64)</td>\n",
       "      <td>M</td>\n",
       "      <td>Australia</td>\n",
       "      <td>New South Wales</td>\n",
       "      <td>Accessories</td>\n",
       "      <td>Bike Racks</td>\n",
       "      <td>Hitch Rack - 4-Bike</td>\n",
       "      <td>23</td>\n",
       "      <td>45</td>\n",
       "      <td>120</td>\n",
       "      <td>1366</td>\n",
       "      <td>1035</td>\n",
       "      <td>2401</td>\n",
       "      <td>Small</td>\n",
       "      <td>Green</td>\n",
       "      <td>Steel</td>\n",
       "      <td>1 Year</td>\n",
       "      <td>Manufacturer D</td>\n",
       "      <td>3</td>\n",
       "      <td>8.97</td>\n",
       "      <td>1</td>\n",
       "      <td>0</td>\n",
       "      <td>True</td>\n",
       "      <td>74.54</td>\n",
       "      <td>GLS</td>\n",
       "      <td>Express</td>\n",
       "      <td>Premium</td>\n",
       "      <td>7 Days</td>\n",
       "    </tr>\n",
       "    <tr>\n",
       "      <th>3</th>\n",
       "      <td>ID4-20150323_6187</td>\n",
       "      <td>2015-03-23</td>\n",
       "      <td>49</td>\n",
       "      <td>Adults (35-64)</td>\n",
       "      <td>M</td>\n",
       "      <td>Australia</td>\n",
       "      <td>New South Wales</td>\n",
       "      <td>Accessories</td>\n",
       "      <td>Bike Racks</td>\n",
       "      <td>Hitch Rack - 4-Bike</td>\n",
       "      <td>20</td>\n",
       "      <td>45</td>\n",
       "      <td>120</td>\n",
       "      <td>1188</td>\n",
       "      <td>900</td>\n",
       "      <td>2088</td>\n",
       "      <td>Small</td>\n",
       "      <td>Red</td>\n",
       "      <td>Carbon Fiber</td>\n",
       "      <td>1 Year</td>\n",
       "      <td>Manufacturer A</td>\n",
       "      <td>5</td>\n",
       "      <td>2.56</td>\n",
       "      <td>1</td>\n",
       "      <td>10</td>\n",
       "      <td>False</td>\n",
       "      <td>61.87</td>\n",
       "      <td>DHL</td>\n",
       "      <td>Same Day</td>\n",
       "      <td>No Insurance</td>\n",
       "      <td>7 Days</td>\n",
       "    </tr>\n",
       "    <tr>\n",
       "      <th>4</th>\n",
       "      <td>ID5-20180515_1982</td>\n",
       "      <td>2018-05-15</td>\n",
       "      <td>47</td>\n",
       "      <td>Adults (35-64)</td>\n",
       "      <td>F</td>\n",
       "      <td>Australia</td>\n",
       "      <td>New South Wales</td>\n",
       "      <td>Accessories</td>\n",
       "      <td>Bike Racks</td>\n",
       "      <td>Hitch Rack - 4-Bike</td>\n",
       "      <td>4</td>\n",
       "      <td>45</td>\n",
       "      <td>120</td>\n",
       "      <td>238</td>\n",
       "      <td>180</td>\n",
       "      <td>418</td>\n",
       "      <td>Extra Large</td>\n",
       "      <td>Blue</td>\n",
       "      <td>Steel</td>\n",
       "      <td>3 Years</td>\n",
       "      <td>Manufacturer A</td>\n",
       "      <td>5</td>\n",
       "      <td>11.21</td>\n",
       "      <td>1</td>\n",
       "      <td>6</td>\n",
       "      <td>False</td>\n",
       "      <td>19.82</td>\n",
       "      <td>GLS</td>\n",
       "      <td>Same Day</td>\n",
       "      <td>Basic</td>\n",
       "      <td>30 Days</td>\n",
       "    </tr>\n",
       "    <tr>\n",
       "      <th>...</th>\n",
       "      <td>...</td>\n",
       "      <td>...</td>\n",
       "      <td>...</td>\n",
       "      <td>...</td>\n",
       "      <td>...</td>\n",
       "      <td>...</td>\n",
       "      <td>...</td>\n",
       "      <td>...</td>\n",
       "      <td>...</td>\n",
       "      <td>...</td>\n",
       "      <td>...</td>\n",
       "      <td>...</td>\n",
       "      <td>...</td>\n",
       "      <td>...</td>\n",
       "      <td>...</td>\n",
       "      <td>...</td>\n",
       "      <td>...</td>\n",
       "      <td>...</td>\n",
       "      <td>...</td>\n",
       "      <td>...</td>\n",
       "      <td>...</td>\n",
       "      <td>...</td>\n",
       "      <td>...</td>\n",
       "      <td>...</td>\n",
       "      <td>...</td>\n",
       "      <td>...</td>\n",
       "      <td>...</td>\n",
       "      <td>...</td>\n",
       "      <td>...</td>\n",
       "      <td>...</td>\n",
       "      <td>...</td>\n",
       "    </tr>\n",
       "    <tr>\n",
       "      <th>113056</th>\n",
       "      <td>ID177812-20220326_2734</td>\n",
       "      <td>2022-03-26</td>\n",
       "      <td>26</td>\n",
       "      <td>Young Adults (25-34)</td>\n",
       "      <td>F</td>\n",
       "      <td>Belgium</td>\n",
       "      <td>New South Wales</td>\n",
       "      <td>Bikes</td>\n",
       "      <td>Road Bikes</td>\n",
       "      <td>Road-250 Red, 58</td>\n",
       "      <td>1</td>\n",
       "      <td>1555</td>\n",
       "      <td>2443</td>\n",
       "      <td>570</td>\n",
       "      <td>1555</td>\n",
       "      <td>2125</td>\n",
       "      <td>Medium</td>\n",
       "      <td>White</td>\n",
       "      <td>Carbon Fiber</td>\n",
       "      <td>Lifetime</td>\n",
       "      <td>Manufacturer D</td>\n",
       "      <td>1</td>\n",
       "      <td>1.54</td>\n",
       "      <td>9</td>\n",
       "      <td>14</td>\n",
       "      <td>True</td>\n",
       "      <td>27.34</td>\n",
       "      <td>FedEx</td>\n",
       "      <td>Standard</td>\n",
       "      <td>Basic</td>\n",
       "      <td>7 Days</td>\n",
       "    </tr>\n",
       "    <tr>\n",
       "      <th>113057</th>\n",
       "      <td>ID185783-20200710_3763</td>\n",
       "      <td>2020-07-10</td>\n",
       "      <td>49</td>\n",
       "      <td>Adults (35-64)</td>\n",
       "      <td>F</td>\n",
       "      <td>United States</td>\n",
       "      <td>Washington</td>\n",
       "      <td>Clothing</td>\n",
       "      <td>Shorts</td>\n",
       "      <td>Women's Mountain Shorts, L</td>\n",
       "      <td>23</td>\n",
       "      <td>26</td>\n",
       "      <td>70</td>\n",
       "      <td>658</td>\n",
       "      <td>598</td>\n",
       "      <td>1256</td>\n",
       "      <td>Medium</td>\n",
       "      <td>Black</td>\n",
       "      <td>Steel</td>\n",
       "      <td>1 Year</td>\n",
       "      <td>Manufacturer A</td>\n",
       "      <td>1</td>\n",
       "      <td>0.72</td>\n",
       "      <td>8</td>\n",
       "      <td>19</td>\n",
       "      <td>True</td>\n",
       "      <td>37.63</td>\n",
       "      <td>Posti</td>\n",
       "      <td>Standard</td>\n",
       "      <td>No Insurance</td>\n",
       "      <td>7 Days</td>\n",
       "    </tr>\n",
       "    <tr>\n",
       "      <th>113058</th>\n",
       "      <td>ID193183-20160422_5016</td>\n",
       "      <td>2016-04-22</td>\n",
       "      <td>36</td>\n",
       "      <td>Adults (35-64)</td>\n",
       "      <td>F</td>\n",
       "      <td>Czech Republic</td>\n",
       "      <td>California</td>\n",
       "      <td>Accessories</td>\n",
       "      <td>Tires and Tubes</td>\n",
       "      <td>Patch Kit/8 Patches</td>\n",
       "      <td>7</td>\n",
       "      <td>1</td>\n",
       "      <td>2</td>\n",
       "      <td>7</td>\n",
       "      <td>7</td>\n",
       "      <td>14</td>\n",
       "      <td>Extra Large</td>\n",
       "      <td>Red</td>\n",
       "      <td>Plastic</td>\n",
       "      <td>1 Year</td>\n",
       "      <td>Manufacturer C</td>\n",
       "      <td>5</td>\n",
       "      <td>0.56</td>\n",
       "      <td>8</td>\n",
       "      <td>23</td>\n",
       "      <td>True</td>\n",
       "      <td>50.16</td>\n",
       "      <td>UPS</td>\n",
       "      <td>Express</td>\n",
       "      <td>Premium</td>\n",
       "      <td>30 Days</td>\n",
       "    </tr>\n",
       "    <tr>\n",
       "      <th>113059</th>\n",
       "      <td>ID206153-20220130_2213</td>\n",
       "      <td>2022-01-30</td>\n",
       "      <td>34</td>\n",
       "      <td>Young Adults (25-34)</td>\n",
       "      <td>M</td>\n",
       "      <td>Hungary</td>\n",
       "      <td>Nordrhein-Westfalen</td>\n",
       "      <td>Accessories</td>\n",
       "      <td>Tires and Tubes</td>\n",
       "      <td>Patch Kit/8 Patches</td>\n",
       "      <td>2</td>\n",
       "      <td>1</td>\n",
       "      <td>2</td>\n",
       "      <td>1</td>\n",
       "      <td>2</td>\n",
       "      <td>3</td>\n",
       "      <td>Extra Large</td>\n",
       "      <td>Blue</td>\n",
       "      <td>Aluminum</td>\n",
       "      <td>Lifetime</td>\n",
       "      <td>Manufacturer B</td>\n",
       "      <td>1</td>\n",
       "      <td>4.43</td>\n",
       "      <td>7</td>\n",
       "      <td>7</td>\n",
       "      <td>False</td>\n",
       "      <td>22.13</td>\n",
       "      <td>UPS</td>\n",
       "      <td>Same Day</td>\n",
       "      <td>Premium</td>\n",
       "      <td>60 Days</td>\n",
       "    </tr>\n",
       "    <tr>\n",
       "      <th>113060</th>\n",
       "      <td>ID219514-20140623_7592</td>\n",
       "      <td>2014-06-23</td>\n",
       "      <td>31</td>\n",
       "      <td>Young Adults (25-34)</td>\n",
       "      <td>F</td>\n",
       "      <td>France</td>\n",
       "      <td>Seine Saint Denis</td>\n",
       "      <td>Accessories</td>\n",
       "      <td>Tires and Tubes</td>\n",
       "      <td>Patch Kit/8 Patches</td>\n",
       "      <td>22</td>\n",
       "      <td>1</td>\n",
       "      <td>2</td>\n",
       "      <td>14</td>\n",
       "      <td>22</td>\n",
       "      <td>36</td>\n",
       "      <td>Large</td>\n",
       "      <td>Black</td>\n",
       "      <td>Carbon Fiber</td>\n",
       "      <td>3 Years</td>\n",
       "      <td>Manufacturer A</td>\n",
       "      <td>2</td>\n",
       "      <td>4.98</td>\n",
       "      <td>8</td>\n",
       "      <td>13</td>\n",
       "      <td>False</td>\n",
       "      <td>75.92</td>\n",
       "      <td>FedEx</td>\n",
       "      <td>Standard</td>\n",
       "      <td>No Insurance</td>\n",
       "      <td>7 Days</td>\n",
       "    </tr>\n",
       "  </tbody>\n",
       "</table>\n",
       "<p>113061 rows × 31 columns</p>\n",
       "</div>"
      ],
      "text/plain": [
       "                id_transaction        date  customer_age  \\\n",
       "0            ID1-20171126_4058  2017-11-26            19   \n",
       "1            ID2-20141126_9532  2014-11-26            19   \n",
       "2            ID3-20190323_7454  2019-03-23            49   \n",
       "3            ID4-20150323_6187  2015-03-23            49   \n",
       "4            ID5-20180515_1982  2018-05-15            47   \n",
       "...                        ...         ...           ...   \n",
       "113056  ID177812-20220326_2734  2022-03-26            26   \n",
       "113057  ID185783-20200710_3763  2020-07-10            49   \n",
       "113058  ID193183-20160422_5016  2016-04-22            36   \n",
       "113059  ID206153-20220130_2213  2022-01-30            34   \n",
       "113060  ID219514-20140623_7592  2014-06-23            31   \n",
       "\n",
       "                   age_group customer_gender         country  \\\n",
       "0                Youth (<25)               M          Canada   \n",
       "1                Youth (<25)               M          Canada   \n",
       "2             Adults (35-64)               M       Australia   \n",
       "3             Adults (35-64)               M       Australia   \n",
       "4             Adults (35-64)               F       Australia   \n",
       "...                      ...             ...             ...   \n",
       "113056  Young Adults (25-34)               F         Belgium   \n",
       "113057        Adults (35-64)               F   United States   \n",
       "113058        Adults (35-64)               F  Czech Republic   \n",
       "113059  Young Adults (25-34)               M         Hungary   \n",
       "113060  Young Adults (25-34)               F          France   \n",
       "\n",
       "                      state product_category     sub_category  \\\n",
       "0          British Columbia      Accessories       Bike Racks   \n",
       "1          British Columbia      Accessories       Bike Racks   \n",
       "2           New South Wales      Accessories       Bike Racks   \n",
       "3           New South Wales      Accessories       Bike Racks   \n",
       "4           New South Wales      Accessories       Bike Racks   \n",
       "...                     ...              ...              ...   \n",
       "113056      New South Wales            Bikes       Road Bikes   \n",
       "113057           Washington         Clothing           Shorts   \n",
       "113058           California      Accessories  Tires and Tubes   \n",
       "113059  Nordrhein-Westfalen      Accessories  Tires and Tubes   \n",
       "113060    Seine Saint Denis      Accessories  Tires and Tubes   \n",
       "\n",
       "                           product  order_quantity  unit_cost  unit_price  \\\n",
       "0              Hitch Rack - 4-Bike               8         45         120   \n",
       "1              Hitch Rack - 4-Bike               8         45         120   \n",
       "2              Hitch Rack - 4-Bike              23         45         120   \n",
       "3              Hitch Rack - 4-Bike              20         45         120   \n",
       "4              Hitch Rack - 4-Bike               4         45         120   \n",
       "...                            ...             ...        ...         ...   \n",
       "113056            Road-250 Red, 58               1       1555        2443   \n",
       "113057  Women's Mountain Shorts, L              23         26          70   \n",
       "113058         Patch Kit/8 Patches               7          1           2   \n",
       "113059         Patch Kit/8 Patches               2          1           2   \n",
       "113060         Patch Kit/8 Patches              22          1           2   \n",
       "\n",
       "        profit  cost  revenue         size  color      material  warranty  \\\n",
       "0          590   360      950  Extra Large  White       Plastic    1 Year   \n",
       "1          590   360      950  Extra Large  White         Steel   2 Years   \n",
       "2         1366  1035     2401        Small  Green         Steel    1 Year   \n",
       "3         1188   900     2088        Small    Red  Carbon Fiber    1 Year   \n",
       "4          238   180      418  Extra Large   Blue         Steel   3 Years   \n",
       "...        ...   ...      ...          ...    ...           ...       ...   \n",
       "113056     570  1555     2125       Medium  White  Carbon Fiber  Lifetime   \n",
       "113057     658   598     1256       Medium  Black         Steel    1 Year   \n",
       "113058       7     7       14  Extra Large    Red       Plastic    1 Year   \n",
       "113059       1     2        3  Extra Large   Blue      Aluminum  Lifetime   \n",
       "113060      14    22       36        Large  Black  Carbon Fiber   3 Years   \n",
       "\n",
       "          manufacturer  rating  shipping_weight  delivery_time  discount  \\\n",
       "0       Manufacturer A       4            13.25              2        25   \n",
       "1       Manufacturer A       5             4.56              4         1   \n",
       "2       Manufacturer D       3             8.97              1         0   \n",
       "3       Manufacturer A       5             2.56              1        10   \n",
       "4       Manufacturer A       5            11.21              1         6   \n",
       "...                ...     ...              ...            ...       ...   \n",
       "113056  Manufacturer D       1             1.54              9        14   \n",
       "113057  Manufacturer A       1             0.72              8        19   \n",
       "113058  Manufacturer C       5             0.56              8        23   \n",
       "113059  Manufacturer B       1             4.43              7         7   \n",
       "113060  Manufacturer A       2             4.98              8        13   \n",
       "\n",
       "        eco_friendly  shipping_cost shipping_company shipping_type  \\\n",
       "0               True          40.58              GLS      Standard   \n",
       "1               True          95.32            Posti      Same Day   \n",
       "2               True          74.54              GLS       Express   \n",
       "3              False          61.87              DHL      Same Day   \n",
       "4              False          19.82              GLS      Same Day   \n",
       "...              ...            ...              ...           ...   \n",
       "113056          True          27.34            FedEx      Standard   \n",
       "113057          True          37.63            Posti      Standard   \n",
       "113058          True          50.16              UPS       Express   \n",
       "113059         False          22.13              UPS      Same Day   \n",
       "113060         False          75.92            FedEx      Standard   \n",
       "\n",
       "           insurance return_policy  \n",
       "0              Basic       30 Days  \n",
       "1       No Insurance       30 Days  \n",
       "2            Premium        7 Days  \n",
       "3       No Insurance        7 Days  \n",
       "4              Basic       30 Days  \n",
       "...              ...           ...  \n",
       "113056         Basic        7 Days  \n",
       "113057  No Insurance        7 Days  \n",
       "113058       Premium       30 Days  \n",
       "113059       Premium       60 Days  \n",
       "113060  No Insurance        7 Days  \n",
       "\n",
       "[113061 rows x 31 columns]"
      ]
     },
     "execution_count": 31,
     "metadata": {},
     "output_type": "execute_result"
    }
   ],
   "source": [
    "# Read cleaned CSV file and save into a DataFrame\n",
    "df = pd.read_csv('data\\\\data_clean.csv')\n",
    "\n",
    "# Show cleaned DataFrame\n",
    "df"
   ]
  },
  {
   "cell_type": "code",
   "execution_count": 32,
   "metadata": {},
   "outputs": [
    {
     "name": "stdout",
     "output_type": "stream",
     "text": [
      "<class 'pandas.core.frame.DataFrame'>\n",
      "RangeIndex: 113061 entries, 0 to 113060\n",
      "Data columns (total 31 columns):\n",
      " #   Column            Non-Null Count   Dtype  \n",
      "---  ------            --------------   -----  \n",
      " 0   id_transaction    113061 non-null  object \n",
      " 1   date              113061 non-null  object \n",
      " 2   customer_age      113061 non-null  int64  \n",
      " 3   age_group         113061 non-null  object \n",
      " 4   customer_gender   113061 non-null  object \n",
      " 5   country           113061 non-null  object \n",
      " 6   state             113061 non-null  object \n",
      " 7   product_category  113061 non-null  object \n",
      " 8   sub_category      113061 non-null  object \n",
      " 9   product           113061 non-null  object \n",
      " 10  order_quantity    113061 non-null  int64  \n",
      " 11  unit_cost         113061 non-null  int64  \n",
      " 12  unit_price        113061 non-null  int64  \n",
      " 13  profit            113061 non-null  int64  \n",
      " 14  cost              113061 non-null  int64  \n",
      " 15  revenue           113061 non-null  int64  \n",
      " 16  size              113061 non-null  object \n",
      " 17  color             113061 non-null  object \n",
      " 18  material          113061 non-null  object \n",
      " 19  warranty          113061 non-null  object \n",
      " 20  manufacturer      113061 non-null  object \n",
      " 21  rating            113061 non-null  int64  \n",
      " 22  shipping_weight   113061 non-null  float64\n",
      " 23  delivery_time     113061 non-null  int64  \n",
      " 24  discount          113061 non-null  int64  \n",
      " 25  eco_friendly      113061 non-null  bool   \n",
      " 26  shipping_cost     113061 non-null  float64\n",
      " 27  shipping_company  113061 non-null  object \n",
      " 28  shipping_type     113061 non-null  object \n",
      " 29  insurance         113061 non-null  object \n",
      " 30  return_policy     113061 non-null  object \n",
      "dtypes: bool(1), float64(2), int64(10), object(18)\n",
      "memory usage: 26.0+ MB\n"
     ]
    }
   ],
   "source": [
    "# Show cleaned DataFrame information\n",
    "df.info()"
   ]
  },
  {
   "cell_type": "markdown",
   "metadata": {},
   "source": [
    "**INSIGHT**\n",
    "- All column names have been converted to lowercase.\n",
    "- After handling duplicates, the dataset now contains **113,061 rows** and **31 columns**.\n",
    "- Missing values in the `insurance` column have been addressed.\n",
    "- A unique identifier column (`transaction_id`) has been added to the dataset.\n",
    "- The redundant columns `day`, `month`, and `year` have been dropped as their information is already encapsulated in the `date` column."
   ]
  },
  {
   "cell_type": "markdown",
   "metadata": {},
   "source": [
    "## Expectations"
   ]
  },
  {
   "cell_type": "markdown",
   "metadata": {},
   "source": [
    "To get started, the first step is to create a **Data Context** file, which serves as a directory to store configurations, metadata, and validation results for Great Expectations. This setup provides a structured environment for managing data quality workflows."
   ]
  },
  {
   "cell_type": "code",
   "execution_count": 33,
   "metadata": {},
   "outputs": [],
   "source": [
    "# Create a data context\n",
    "context = FileDataContext.create(project_root_dir='./')"
   ]
  },
  {
   "cell_type": "markdown",
   "metadata": {},
   "source": [
    "Then, define the dataset to be validated and prepare batch requests for further analysis or data validation in Great Expectations."
   ]
  },
  {
   "cell_type": "code",
   "execution_count": 34,
   "metadata": {},
   "outputs": [],
   "source": [
    "# Give a name to a Datasource. This name must be unique between Datasources.\n",
    "datasource_name = 'bike-sales-datasource'\n",
    "datasource = context.sources.add_pandas(datasource_name)\n",
    "\n",
    "# Give a name to a data asset\n",
    "asset_name = 'bike-sales-asset'\n",
    "path_to_data = 'data\\\\data_clean.csv'\n",
    "asset = datasource.add_csv_asset(asset_name, filepath_or_buffer=path_to_data)\n",
    "\n",
    "# Build batch request\n",
    "batch_request = asset.build_batch_request()"
   ]
  },
  {
   "cell_type": "markdown",
   "metadata": {},
   "source": [
    "Next, create an expectation suite and a validator to manage data validation rules and verify the connection between the batch data and the expectation suite in Great Expectations."
   ]
  },
  {
   "cell_type": "code",
   "execution_count": 35,
   "metadata": {},
   "outputs": [
    {
     "data": {
      "application/vnd.jupyter.widget-view+json": {
       "model_id": "b7a8dbbfbf1c4132af3b35addaa9c9c2",
       "version_major": 2,
       "version_minor": 0
      },
      "text/plain": [
       "Calculating Metrics:   0%|          | 0/1 [00:00<?, ?it/s]"
      ]
     },
     "metadata": {},
     "output_type": "display_data"
    },
    {
     "data": {
      "text/html": [
       "<div>\n",
       "<style scoped>\n",
       "    .dataframe tbody tr th:only-of-type {\n",
       "        vertical-align: middle;\n",
       "    }\n",
       "\n",
       "    .dataframe tbody tr th {\n",
       "        vertical-align: top;\n",
       "    }\n",
       "\n",
       "    .dataframe thead th {\n",
       "        text-align: right;\n",
       "    }\n",
       "</style>\n",
       "<table border=\"1\" class=\"dataframe\">\n",
       "  <thead>\n",
       "    <tr style=\"text-align: right;\">\n",
       "      <th></th>\n",
       "      <th>id_transaction</th>\n",
       "      <th>date</th>\n",
       "      <th>customer_age</th>\n",
       "      <th>age_group</th>\n",
       "      <th>customer_gender</th>\n",
       "      <th>country</th>\n",
       "      <th>state</th>\n",
       "      <th>product_category</th>\n",
       "      <th>sub_category</th>\n",
       "      <th>product</th>\n",
       "      <th>order_quantity</th>\n",
       "      <th>unit_cost</th>\n",
       "      <th>unit_price</th>\n",
       "      <th>profit</th>\n",
       "      <th>cost</th>\n",
       "      <th>revenue</th>\n",
       "      <th>size</th>\n",
       "      <th>color</th>\n",
       "      <th>material</th>\n",
       "      <th>warranty</th>\n",
       "      <th>manufacturer</th>\n",
       "      <th>rating</th>\n",
       "      <th>shipping_weight</th>\n",
       "      <th>delivery_time</th>\n",
       "      <th>discount</th>\n",
       "      <th>eco_friendly</th>\n",
       "      <th>shipping_cost</th>\n",
       "      <th>shipping_company</th>\n",
       "      <th>shipping_type</th>\n",
       "      <th>insurance</th>\n",
       "      <th>return_policy</th>\n",
       "    </tr>\n",
       "  </thead>\n",
       "  <tbody>\n",
       "    <tr>\n",
       "      <th>0</th>\n",
       "      <td>ID1-20171126_4058</td>\n",
       "      <td>2017-11-26</td>\n",
       "      <td>19</td>\n",
       "      <td>Youth (&lt;25)</td>\n",
       "      <td>M</td>\n",
       "      <td>Canada</td>\n",
       "      <td>British Columbia</td>\n",
       "      <td>Accessories</td>\n",
       "      <td>Bike Racks</td>\n",
       "      <td>Hitch Rack - 4-Bike</td>\n",
       "      <td>8</td>\n",
       "      <td>45</td>\n",
       "      <td>120</td>\n",
       "      <td>590</td>\n",
       "      <td>360</td>\n",
       "      <td>950</td>\n",
       "      <td>Extra Large</td>\n",
       "      <td>White</td>\n",
       "      <td>Plastic</td>\n",
       "      <td>1 Year</td>\n",
       "      <td>Manufacturer A</td>\n",
       "      <td>4</td>\n",
       "      <td>13.25</td>\n",
       "      <td>2</td>\n",
       "      <td>25</td>\n",
       "      <td>True</td>\n",
       "      <td>40.58</td>\n",
       "      <td>GLS</td>\n",
       "      <td>Standard</td>\n",
       "      <td>Basic</td>\n",
       "      <td>30 Days</td>\n",
       "    </tr>\n",
       "    <tr>\n",
       "      <th>1</th>\n",
       "      <td>ID2-20141126_9532</td>\n",
       "      <td>2014-11-26</td>\n",
       "      <td>19</td>\n",
       "      <td>Youth (&lt;25)</td>\n",
       "      <td>M</td>\n",
       "      <td>Canada</td>\n",
       "      <td>British Columbia</td>\n",
       "      <td>Accessories</td>\n",
       "      <td>Bike Racks</td>\n",
       "      <td>Hitch Rack - 4-Bike</td>\n",
       "      <td>8</td>\n",
       "      <td>45</td>\n",
       "      <td>120</td>\n",
       "      <td>590</td>\n",
       "      <td>360</td>\n",
       "      <td>950</td>\n",
       "      <td>Extra Large</td>\n",
       "      <td>White</td>\n",
       "      <td>Steel</td>\n",
       "      <td>2 Years</td>\n",
       "      <td>Manufacturer A</td>\n",
       "      <td>5</td>\n",
       "      <td>4.56</td>\n",
       "      <td>4</td>\n",
       "      <td>1</td>\n",
       "      <td>True</td>\n",
       "      <td>95.32</td>\n",
       "      <td>Posti</td>\n",
       "      <td>Same Day</td>\n",
       "      <td>No Insurance</td>\n",
       "      <td>30 Days</td>\n",
       "    </tr>\n",
       "    <tr>\n",
       "      <th>2</th>\n",
       "      <td>ID3-20190323_7454</td>\n",
       "      <td>2019-03-23</td>\n",
       "      <td>49</td>\n",
       "      <td>Adults (35-64)</td>\n",
       "      <td>M</td>\n",
       "      <td>Australia</td>\n",
       "      <td>New South Wales</td>\n",
       "      <td>Accessories</td>\n",
       "      <td>Bike Racks</td>\n",
       "      <td>Hitch Rack - 4-Bike</td>\n",
       "      <td>23</td>\n",
       "      <td>45</td>\n",
       "      <td>120</td>\n",
       "      <td>1366</td>\n",
       "      <td>1035</td>\n",
       "      <td>2401</td>\n",
       "      <td>Small</td>\n",
       "      <td>Green</td>\n",
       "      <td>Steel</td>\n",
       "      <td>1 Year</td>\n",
       "      <td>Manufacturer D</td>\n",
       "      <td>3</td>\n",
       "      <td>8.97</td>\n",
       "      <td>1</td>\n",
       "      <td>0</td>\n",
       "      <td>True</td>\n",
       "      <td>74.54</td>\n",
       "      <td>GLS</td>\n",
       "      <td>Express</td>\n",
       "      <td>Premium</td>\n",
       "      <td>7 Days</td>\n",
       "    </tr>\n",
       "    <tr>\n",
       "      <th>3</th>\n",
       "      <td>ID4-20150323_6187</td>\n",
       "      <td>2015-03-23</td>\n",
       "      <td>49</td>\n",
       "      <td>Adults (35-64)</td>\n",
       "      <td>M</td>\n",
       "      <td>Australia</td>\n",
       "      <td>New South Wales</td>\n",
       "      <td>Accessories</td>\n",
       "      <td>Bike Racks</td>\n",
       "      <td>Hitch Rack - 4-Bike</td>\n",
       "      <td>20</td>\n",
       "      <td>45</td>\n",
       "      <td>120</td>\n",
       "      <td>1188</td>\n",
       "      <td>900</td>\n",
       "      <td>2088</td>\n",
       "      <td>Small</td>\n",
       "      <td>Red</td>\n",
       "      <td>Carbon Fiber</td>\n",
       "      <td>1 Year</td>\n",
       "      <td>Manufacturer A</td>\n",
       "      <td>5</td>\n",
       "      <td>2.56</td>\n",
       "      <td>1</td>\n",
       "      <td>10</td>\n",
       "      <td>False</td>\n",
       "      <td>61.87</td>\n",
       "      <td>DHL</td>\n",
       "      <td>Same Day</td>\n",
       "      <td>No Insurance</td>\n",
       "      <td>7 Days</td>\n",
       "    </tr>\n",
       "    <tr>\n",
       "      <th>4</th>\n",
       "      <td>ID5-20180515_1982</td>\n",
       "      <td>2018-05-15</td>\n",
       "      <td>47</td>\n",
       "      <td>Adults (35-64)</td>\n",
       "      <td>F</td>\n",
       "      <td>Australia</td>\n",
       "      <td>New South Wales</td>\n",
       "      <td>Accessories</td>\n",
       "      <td>Bike Racks</td>\n",
       "      <td>Hitch Rack - 4-Bike</td>\n",
       "      <td>4</td>\n",
       "      <td>45</td>\n",
       "      <td>120</td>\n",
       "      <td>238</td>\n",
       "      <td>180</td>\n",
       "      <td>418</td>\n",
       "      <td>Extra Large</td>\n",
       "      <td>Blue</td>\n",
       "      <td>Steel</td>\n",
       "      <td>3 Years</td>\n",
       "      <td>Manufacturer A</td>\n",
       "      <td>5</td>\n",
       "      <td>11.21</td>\n",
       "      <td>1</td>\n",
       "      <td>6</td>\n",
       "      <td>False</td>\n",
       "      <td>19.82</td>\n",
       "      <td>GLS</td>\n",
       "      <td>Same Day</td>\n",
       "      <td>Basic</td>\n",
       "      <td>30 Days</td>\n",
       "    </tr>\n",
       "  </tbody>\n",
       "</table>\n",
       "</div>"
      ],
      "text/plain": [
       "      id_transaction        date  customer_age       age_group  \\\n",
       "0  ID1-20171126_4058  2017-11-26            19     Youth (<25)   \n",
       "1  ID2-20141126_9532  2014-11-26            19     Youth (<25)   \n",
       "2  ID3-20190323_7454  2019-03-23            49  Adults (35-64)   \n",
       "3  ID4-20150323_6187  2015-03-23            49  Adults (35-64)   \n",
       "4  ID5-20180515_1982  2018-05-15            47  Adults (35-64)   \n",
       "\n",
       "  customer_gender    country             state product_category sub_category  \\\n",
       "0               M     Canada  British Columbia      Accessories   Bike Racks   \n",
       "1               M     Canada  British Columbia      Accessories   Bike Racks   \n",
       "2               M  Australia   New South Wales      Accessories   Bike Racks   \n",
       "3               M  Australia   New South Wales      Accessories   Bike Racks   \n",
       "4               F  Australia   New South Wales      Accessories   Bike Racks   \n",
       "\n",
       "               product  order_quantity  unit_cost  unit_price  profit  cost  \\\n",
       "0  Hitch Rack - 4-Bike               8         45         120     590   360   \n",
       "1  Hitch Rack - 4-Bike               8         45         120     590   360   \n",
       "2  Hitch Rack - 4-Bike              23         45         120    1366  1035   \n",
       "3  Hitch Rack - 4-Bike              20         45         120    1188   900   \n",
       "4  Hitch Rack - 4-Bike               4         45         120     238   180   \n",
       "\n",
       "   revenue         size  color      material warranty    manufacturer  rating  \\\n",
       "0      950  Extra Large  White       Plastic   1 Year  Manufacturer A       4   \n",
       "1      950  Extra Large  White         Steel  2 Years  Manufacturer A       5   \n",
       "2     2401        Small  Green         Steel   1 Year  Manufacturer D       3   \n",
       "3     2088        Small    Red  Carbon Fiber   1 Year  Manufacturer A       5   \n",
       "4      418  Extra Large   Blue         Steel  3 Years  Manufacturer A       5   \n",
       "\n",
       "   shipping_weight  delivery_time  discount  eco_friendly  shipping_cost  \\\n",
       "0            13.25              2        25          True          40.58   \n",
       "1             4.56              4         1          True          95.32   \n",
       "2             8.97              1         0          True          74.54   \n",
       "3             2.56              1        10         False          61.87   \n",
       "4            11.21              1         6         False          19.82   \n",
       "\n",
       "  shipping_company shipping_type     insurance return_policy  \n",
       "0              GLS      Standard         Basic       30 Days  \n",
       "1            Posti      Same Day  No Insurance       30 Days  \n",
       "2              GLS       Express       Premium        7 Days  \n",
       "3              DHL      Same Day  No Insurance        7 Days  \n",
       "4              GLS      Same Day         Basic       30 Days  "
      ]
     },
     "execution_count": 35,
     "metadata": {},
     "output_type": "execute_result"
    }
   ],
   "source": [
    "# Creat an expectation suite\n",
    "expectation_suite_name = 'expectation-suite-dataset'\n",
    "context.add_or_update_expectation_suite(expectation_suite_name)\n",
    "\n",
    "# Create a validator using above expectation suite\n",
    "validator = context.get_validator(\n",
    "    batch_request = batch_request,\n",
    "    expectation_suite_name = expectation_suite_name\n",
    ")\n",
    "\n",
    "# Check the validator\n",
    "validator.head()"
   ]
  },
  {
   "cell_type": "markdown",
   "metadata": {},
   "source": [
    "### Expectation 1: To be Unique"
   ]
  },
  {
   "cell_type": "markdown",
   "metadata": {},
   "source": [
    "The following expectation code ensures that there are no duplicates in the `id_transaction` column, which is typically crucial for columns serving as unique identifiers. The result confirms that the `id_transaction` column meets the expectation that all values are unique, with no duplicates or missing values."
   ]
  },
  {
   "cell_type": "code",
   "execution_count": 36,
   "metadata": {},
   "outputs": [
    {
     "data": {
      "application/vnd.jupyter.widget-view+json": {
       "model_id": "d8aa3db6c3cd47e18db62bcd694628af",
       "version_major": 2,
       "version_minor": 0
      },
      "text/plain": [
       "Calculating Metrics:   0%|          | 0/8 [00:00<?, ?it/s]"
      ]
     },
     "metadata": {},
     "output_type": "display_data"
    },
    {
     "data": {
      "text/plain": [
       "{\n",
       "  \"success\": true,\n",
       "  \"result\": {\n",
       "    \"element_count\": 113061,\n",
       "    \"unexpected_count\": 0,\n",
       "    \"unexpected_percent\": 0.0,\n",
       "    \"partial_unexpected_list\": [],\n",
       "    \"missing_count\": 0,\n",
       "    \"missing_percent\": 0.0,\n",
       "    \"unexpected_percent_total\": 0.0,\n",
       "    \"unexpected_percent_nonmissing\": 0.0\n",
       "  },\n",
       "  \"meta\": {},\n",
       "  \"exception_info\": {\n",
       "    \"raised_exception\": false,\n",
       "    \"exception_traceback\": null,\n",
       "    \"exception_message\": null\n",
       "  }\n",
       "}"
      ]
     },
     "execution_count": 36,
     "metadata": {},
     "output_type": "execute_result"
    }
   ],
   "source": [
    "# Expectation to be unique\n",
    "validator.expect_column_values_to_be_unique('id_transaction')"
   ]
  },
  {
   "cell_type": "markdown",
   "metadata": {},
   "source": [
    "### Expectation 2: To be Between"
   ]
  },
  {
   "cell_type": "markdown",
   "metadata": {},
   "source": [
    "The following expectation code ensures that the values in the `customer_age` column fall within a specific range. The result confirms that the `customer_age` column meets the expectation that all values are within the range of **17** to **87**, with no values outside the defined boundaries, demonstrating good validity for this column."
   ]
  },
  {
   "cell_type": "code",
   "execution_count": 37,
   "metadata": {},
   "outputs": [
    {
     "name": "stdout",
     "output_type": "stream",
     "text": [
      "17\n",
      "87\n"
     ]
    }
   ],
   "source": [
    "print(df['customer_age'].min())\n",
    "print(df['customer_age'].max())"
   ]
  },
  {
   "cell_type": "code",
   "execution_count": 38,
   "metadata": {},
   "outputs": [
    {
     "data": {
      "application/vnd.jupyter.widget-view+json": {
       "model_id": "f8910161bf9e474aaef0eec412df26ff",
       "version_major": 2,
       "version_minor": 0
      },
      "text/plain": [
       "Calculating Metrics:   0%|          | 0/8 [00:00<?, ?it/s]"
      ]
     },
     "metadata": {},
     "output_type": "display_data"
    },
    {
     "data": {
      "text/plain": [
       "{\n",
       "  \"success\": true,\n",
       "  \"result\": {\n",
       "    \"element_count\": 113061,\n",
       "    \"unexpected_count\": 0,\n",
       "    \"unexpected_percent\": 0.0,\n",
       "    \"partial_unexpected_list\": [],\n",
       "    \"missing_count\": 0,\n",
       "    \"missing_percent\": 0.0,\n",
       "    \"unexpected_percent_total\": 0.0,\n",
       "    \"unexpected_percent_nonmissing\": 0.0\n",
       "  },\n",
       "  \"meta\": {},\n",
       "  \"exception_info\": {\n",
       "    \"raised_exception\": false,\n",
       "    \"exception_traceback\": null,\n",
       "    \"exception_message\": null\n",
       "  }\n",
       "}"
      ]
     },
     "execution_count": 38,
     "metadata": {},
     "output_type": "execute_result"
    }
   ],
   "source": [
    "# Expecation to be between\n",
    "validator.expect_column_values_to_be_between('customer_age', min_value=17, max_value=87)"
   ]
  },
  {
   "cell_type": "markdown",
   "metadata": {},
   "source": [
    "### Expectation 3: To be in Set"
   ]
  },
  {
   "cell_type": "markdown",
   "metadata": {},
   "source": [
    "The following expectation code ensures that the values in the `sub_category` column only belong to a predefined list of valid categories. The result confirms that the `sub_category` column meets the expectation that all values are within the valid product category list, with no unexpected values, indicating consistency and validity in this column's data."
   ]
  },
  {
   "cell_type": "code",
   "execution_count": 39,
   "metadata": {},
   "outputs": [
    {
     "data": {
      "text/plain": [
       "array(['Bike Racks', 'Bike Stands', 'Bottles and Cages', 'Caps',\n",
       "       'Cleaners', 'Fenders', 'Gloves', 'Helmets', 'Hydration Packs',\n",
       "       'Jerseys', 'Mountain Bikes', 'Road Bikes', 'Shorts', 'Socks',\n",
       "       'Tires and Tubes', 'Touring Bikes', 'Vests'], dtype=object)"
      ]
     },
     "execution_count": 39,
     "metadata": {},
     "output_type": "execute_result"
    }
   ],
   "source": [
    "df['sub_category'].unique()"
   ]
  },
  {
   "cell_type": "code",
   "execution_count": 40,
   "metadata": {},
   "outputs": [
    {
     "data": {
      "application/vnd.jupyter.widget-view+json": {
       "model_id": "00b8f05cf86144f0b4bbd21022cd8cf3",
       "version_major": 2,
       "version_minor": 0
      },
      "text/plain": [
       "Calculating Metrics:   0%|          | 0/8 [00:00<?, ?it/s]"
      ]
     },
     "metadata": {},
     "output_type": "display_data"
    },
    {
     "data": {
      "text/plain": [
       "{\n",
       "  \"success\": true,\n",
       "  \"result\": {\n",
       "    \"element_count\": 113061,\n",
       "    \"unexpected_count\": 0,\n",
       "    \"unexpected_percent\": 0.0,\n",
       "    \"partial_unexpected_list\": [],\n",
       "    \"missing_count\": 0,\n",
       "    \"missing_percent\": 0.0,\n",
       "    \"unexpected_percent_total\": 0.0,\n",
       "    \"unexpected_percent_nonmissing\": 0.0\n",
       "  },\n",
       "  \"meta\": {},\n",
       "  \"exception_info\": {\n",
       "    \"raised_exception\": false,\n",
       "    \"exception_traceback\": null,\n",
       "    \"exception_message\": null\n",
       "  }\n",
       "}"
      ]
     },
     "execution_count": 40,
     "metadata": {},
     "output_type": "execute_result"
    }
   ],
   "source": [
    "# Expectation to be in set\n",
    "validator.expect_column_values_to_be_in_set('sub_category', ['Bike Racks', 'Bike Stands', 'Bottles and Cages', 'Caps',\n",
    "                                                                        'Cleaners', 'Fenders', 'Gloves', 'Helmets', 'Hydration Packs',\n",
    "                                                                        'Jerseys', 'Mountain Bikes', 'Road Bikes', 'Shorts', 'Socks',\n",
    "                                                                        'Tires and Tubes', 'Touring Bikes', 'Vests'])"
   ]
  },
  {
   "cell_type": "markdown",
   "metadata": {},
   "source": [
    "### Expectation 4: To be in Type List"
   ]
  },
  {
   "cell_type": "markdown",
   "metadata": {},
   "source": [
    "The following expectation code ensures that all values in the `eco_friendly` column have the correct data type. The result confirms that the `eco_friendly` column meets the expectation that all values are of the boolean type (True or False), ensuring consistency in the data type for this column."
   ]
  },
  {
   "cell_type": "code",
   "execution_count": 41,
   "metadata": {},
   "outputs": [
    {
     "data": {
      "text/plain": [
       "array([ True, False])"
      ]
     },
     "execution_count": 41,
     "metadata": {},
     "output_type": "execute_result"
    }
   ],
   "source": [
    "df['eco_friendly'].unique()"
   ]
  },
  {
   "cell_type": "code",
   "execution_count": 42,
   "metadata": {},
   "outputs": [
    {
     "data": {
      "application/vnd.jupyter.widget-view+json": {
       "model_id": "a3a8ba4e4e2c4e99b0df5f29d687a936",
       "version_major": 2,
       "version_minor": 0
      },
      "text/plain": [
       "Calculating Metrics:   0%|          | 0/1 [00:00<?, ?it/s]"
      ]
     },
     "metadata": {},
     "output_type": "display_data"
    },
    {
     "data": {
      "text/plain": [
       "{\n",
       "  \"success\": true,\n",
       "  \"result\": {\n",
       "    \"observed_value\": \"bool_\"\n",
       "  },\n",
       "  \"meta\": {},\n",
       "  \"exception_info\": {\n",
       "    \"raised_exception\": false,\n",
       "    \"exception_traceback\": null,\n",
       "    \"exception_message\": null\n",
       "  }\n",
       "}"
      ]
     },
     "execution_count": 42,
     "metadata": {},
     "output_type": "execute_result"
    }
   ],
   "source": [
    "# Expectation to be in type list\n",
    "validator.expect_column_values_to_be_in_type_list('eco_friendly', ['bool'])"
   ]
  },
  {
   "cell_type": "markdown",
   "metadata": {},
   "source": [
    "### Expectation 5: To be Dateutil Parseable"
   ]
  },
  {
   "cell_type": "markdown",
   "metadata": {},
   "source": [
    "The following expectation code ensures that all values in the `date` column can be parsed as valid formats using the `dateutil` library. The result confirms that the `date` column meets the expectation that all values can be parsed into valid formats, demonstrating consistency in format and supporting further analysis."
   ]
  },
  {
   "cell_type": "code",
   "execution_count": 43,
   "metadata": {},
   "outputs": [
    {
     "data": {
      "text/plain": [
       "dtype('O')"
      ]
     },
     "execution_count": 43,
     "metadata": {},
     "output_type": "execute_result"
    }
   ],
   "source": [
    "df['date'].dtypes"
   ]
  },
  {
   "cell_type": "code",
   "execution_count": 44,
   "metadata": {},
   "outputs": [
    {
     "data": {
      "application/vnd.jupyter.widget-view+json": {
       "model_id": "a05779b5eedf4babaea873532062cc66",
       "version_major": 2,
       "version_minor": 0
      },
      "text/plain": [
       "Calculating Metrics:   0%|          | 0/8 [00:00<?, ?it/s]"
      ]
     },
     "metadata": {},
     "output_type": "display_data"
    },
    {
     "data": {
      "text/plain": [
       "{\n",
       "  \"success\": true,\n",
       "  \"result\": {\n",
       "    \"element_count\": 113061,\n",
       "    \"unexpected_count\": 0,\n",
       "    \"unexpected_percent\": 0.0,\n",
       "    \"partial_unexpected_list\": [],\n",
       "    \"missing_count\": 0,\n",
       "    \"missing_percent\": 0.0,\n",
       "    \"unexpected_percent_total\": 0.0,\n",
       "    \"unexpected_percent_nonmissing\": 0.0\n",
       "  },\n",
       "  \"meta\": {},\n",
       "  \"exception_info\": {\n",
       "    \"raised_exception\": false,\n",
       "    \"exception_traceback\": null,\n",
       "    \"exception_message\": null\n",
       "  }\n",
       "}"
      ]
     },
     "execution_count": 44,
     "metadata": {},
     "output_type": "execute_result"
    }
   ],
   "source": [
    "# Expectation to be dateutil parseable\n",
    "validator.expect_column_values_to_be_dateutil_parseable(column='date')"
   ]
  },
  {
   "cell_type": "markdown",
   "metadata": {},
   "source": [
    "### Expectation 6: Table Rows Count to be Between"
   ]
  },
  {
   "cell_type": "markdown",
   "metadata": {},
   "source": [
    "The following expectation code ensures that the number of rows in the table falls within a specific range. The result confirms that the table meets the expectation with exactly **113,061 rows**, with no missing or additional rows."
   ]
  },
  {
   "cell_type": "code",
   "execution_count": 45,
   "metadata": {},
   "outputs": [
    {
     "data": {
      "application/vnd.jupyter.widget-view+json": {
       "model_id": "3d120264f4264b22958f56ffbb4a37fd",
       "version_major": 2,
       "version_minor": 0
      },
      "text/plain": [
       "Calculating Metrics:   0%|          | 0/1 [00:00<?, ?it/s]"
      ]
     },
     "metadata": {},
     "output_type": "display_data"
    },
    {
     "data": {
      "text/plain": [
       "{\n",
       "  \"success\": true,\n",
       "  \"result\": {\n",
       "    \"observed_value\": 113061\n",
       "  },\n",
       "  \"meta\": {},\n",
       "  \"exception_info\": {\n",
       "    \"raised_exception\": false,\n",
       "    \"exception_traceback\": null,\n",
       "    \"exception_message\": null\n",
       "  }\n",
       "}"
      ]
     },
     "execution_count": 45,
     "metadata": {},
     "output_type": "execute_result"
    }
   ],
   "source": [
    "# Expectation table row count to be between\n",
    "validator.expect_table_row_count_to_be_between(min_value=113061 , max_value=113061)"
   ]
  },
  {
   "cell_type": "markdown",
   "metadata": {},
   "source": [
    "### Expectation 7: Table Columns Count to be Between"
   ]
  },
  {
   "cell_type": "markdown",
   "metadata": {},
   "source": [
    "The following expectation code ensures that the number of columns in the table falls within a specific range. The result confirms that the table meets the expectation with exactly **31 columns**, indicating consistency in the table structure as defined by the dataset."
   ]
  },
  {
   "cell_type": "code",
   "execution_count": 46,
   "metadata": {},
   "outputs": [
    {
     "data": {
      "application/vnd.jupyter.widget-view+json": {
       "model_id": "90d305f770f34e198ab0c03cb175eba6",
       "version_major": 2,
       "version_minor": 0
      },
      "text/plain": [
       "Calculating Metrics:   0%|          | 0/3 [00:00<?, ?it/s]"
      ]
     },
     "metadata": {},
     "output_type": "display_data"
    },
    {
     "data": {
      "text/plain": [
       "{\n",
       "  \"success\": true,\n",
       "  \"result\": {\n",
       "    \"observed_value\": 31\n",
       "  },\n",
       "  \"meta\": {},\n",
       "  \"exception_info\": {\n",
       "    \"raised_exception\": false,\n",
       "    \"exception_traceback\": null,\n",
       "    \"exception_message\": null\n",
       "  }\n",
       "}"
      ]
     },
     "execution_count": 46,
     "metadata": {},
     "output_type": "execute_result"
    }
   ],
   "source": [
    "# Expectation table column count to be between\n",
    "validator.expect_table_column_count_to_be_between(min_value=31, max_value=31)"
   ]
  },
  {
   "cell_type": "markdown",
   "metadata": {},
   "source": [
    "Next, save the configuration of the expectation suite for future use, eliminating the need to redefine validation rules. The saved expectation suite can be reused for automated validation of subsequent data batches."
   ]
  },
  {
   "cell_type": "code",
   "execution_count": 47,
   "metadata": {},
   "outputs": [],
   "source": [
    "# Save into Expectation Suite\n",
    "validator.save_expectation_suite(discard_failed_expectations=False)"
   ]
  },
  {
   "cell_type": "markdown",
   "metadata": {},
   "source": [
    "## Checkpoint"
   ]
  },
  {
   "cell_type": "markdown",
   "metadata": {},
   "source": [
    "A checkpoint is used to automate the data validation process. Validation results, including both successful and failed expectations, are recorded for each validation attempt."
   ]
  },
  {
   "cell_type": "code",
   "execution_count": 48,
   "metadata": {},
   "outputs": [],
   "source": [
    "# Create a checkpoint\n",
    "checkpoint = context.add_or_update_checkpoint(\n",
    "    name = 'checkpoint',\n",
    "    validator = validator,\n",
    ")"
   ]
  },
  {
   "cell_type": "code",
   "execution_count": 49,
   "metadata": {},
   "outputs": [
    {
     "data": {
      "application/vnd.jupyter.widget-view+json": {
       "model_id": "69c1d25251cf438d85ac090c2dc59362",
       "version_major": 2,
       "version_minor": 0
      },
      "text/plain": [
       "Calculating Metrics:   0%|          | 0/32 [00:00<?, ?it/s]"
      ]
     },
     "metadata": {},
     "output_type": "display_data"
    }
   ],
   "source": [
    "# Run a checkpoint\n",
    "checkpoint_result = checkpoint.run()"
   ]
  },
  {
   "cell_type": "markdown",
   "metadata": {},
   "source": [
    "## Data Docs"
   ]
  },
  {
   "cell_type": "markdown",
   "metadata": {},
   "source": [
    "Finally, create data documentation in `.html` format to understand the applied validation rules, visually inspect dataset validation results, and enhance transparency and collaboration in the data pipeline."
   ]
  },
  {
   "cell_type": "code",
   "execution_count": 50,
   "metadata": {},
   "outputs": [
    {
     "data": {
      "text/plain": [
       "{'local_site': 'file://c:\\\\Users\\\\ferry\\\\Documents\\\\Porto\\\\Data\\\\global-bike-sales-analysis-pipeline\\\\gx\\\\uncommitted/data_docs/local_site/index.html'}"
      ]
     },
     "execution_count": 50,
     "metadata": {},
     "output_type": "execute_result"
    }
   ],
   "source": [
    "# Build data docs\n",
    "context.build_data_docs()"
   ]
  }
 ],
 "metadata": {
  "kernelspec": {
   "display_name": "hck22-phase2",
   "language": "python",
   "name": "python3"
  },
  "language_info": {
   "codemirror_mode": {
    "name": "ipython",
    "version": 3
   },
   "file_extension": ".py",
   "mimetype": "text/x-python",
   "name": "python",
   "nbconvert_exporter": "python",
   "pygments_lexer": "ipython3",
   "version": "3.9.20"
  }
 },
 "nbformat": 4,
 "nbformat_minor": 2
}
